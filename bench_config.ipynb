{
 "cells": [
  {
   "cell_type": "markdown",
   "id": "f5bbeda5-cd6b-4906-ab7f-d765689f0acd",
   "metadata": {},
   "source": [
    "# Benchmark Approach for the Selection of Tailored Authentication Models\n",
    "\n",
    "This is a short introduction to our Benchmark approach.\n",
    "\n",
    "\n",
    "\n",
    "**Prerequisites:**\n",
    "\n",
    "\n",
    "environment conda\n",
    "\n",
    "pip install jupyter-lab\n",
    "\n",
    "pip install voila\n",
    "\n",
    "pip install ipywidgets\n",
    "\n",
    "\n",
    "jupyter-lab\n",
    "\n",
    "Activer extensions (puzzle left side) + relancer Jupyter-labs\n",
    "\n",
    "**Authors:** Anne Bumiller, Stéphanie Challita, Olivier Barais, Benoit Combemale, Nicoals Aillery\n",
    "\n"
   ]
  },
  {
   "cell_type": "code",
   "execution_count": 1,
   "id": "efce6df4-2c07-4098-bdc7-aa010411d868",
   "metadata": {},
   "outputs": [],
   "source": [
    "# Packages\n",
    "from ipywidgets import widgets\n",
    "import os\n",
    "import pandas as pd\n",
    "from IPython.display import clear_output\n",
    "import importlib"
   ]
  },
  {
   "cell_type": "markdown",
   "id": "232b1724-b52a-4875-9d91-47e0d14d718d",
   "metadata": {},
   "source": [
    "## Choose User Path"
   ]
  },
  {
   "cell_type": "code",
   "execution_count": 2,
   "id": "1e7f8f75-84ef-415f-bbf3-cf18c5f1ab83",
   "metadata": {},
   "outputs": [
    {
     "data": {
      "application/vnd.jupyter.widget-view+json": {
       "model_id": "452f211d15004a8c9a6952067b43c938",
       "version_major": 2,
       "version_minor": 0
      },
      "text/plain": [
       "Dropdown(description='User Path:', options=('user_318', 'user_115', 'user_327', 'user_571', 'user_585', 'user_…"
      ]
     },
     "metadata": {},
     "output_type": "display_data"
    }
   ],
   "source": [
    "ChooseUser = widgets.Dropdown(\n",
    "    options=os.listdir('context_sequences/onlineServiceNorway_paths'),\n",
    "    \n",
    "    description='User Path:',\n",
    "    disabled=False,\n",
    ")\n",
    "display(ChooseUser)"
   ]
  },
  {
   "cell_type": "code",
   "execution_count": 3,
   "id": "09b78ba9-f1db-450d-bc61-7e16caddef30",
   "metadata": {},
   "outputs": [],
   "source": [
    "output = widgets.Output()\n",
    "#display(output)\n"
   ]
  },
  {
   "cell_type": "code",
   "execution_count": 4,
   "id": "70ecfa5a-1c3f-4164-95a0-f35e374b6360",
   "metadata": {},
   "outputs": [],
   "source": [
    "#def chooseUserObserve(change):\n",
    "    #if change['type'] == 'change' and change['name'] == 'value':\n",
    "        #with output:\n",
    "            #print(change['new'])\n",
    "    #return change['new']\n",
    "    \n",
    "\n",
    "#ChooseUser.observe(chooseUserObserve)"
   ]
  },
  {
   "cell_type": "markdown",
   "id": "cb7764a8-fe78-4e3e-9300-331e7b0b404d",
   "metadata": {},
   "source": [
    "## Choose Security Politics"
   ]
  },
  {
   "cell_type": "code",
   "execution_count": 5,
   "id": "79350af3-ca5c-47dd-b97b-1be2d76813a1",
   "metadata": {},
   "outputs": [
    {
     "data": {
      "application/vnd.jupyter.widget-view+json": {
       "model_id": "b39892f356b1403caae6ef59333d1270",
       "version_major": 2,
       "version_minor": 0
      },
      "text/plain": [
       "Dropdown(description='Security Politics:', options=('security_politics.json', '.ipynb_checkpoints'), value='se…"
      ]
     },
     "metadata": {},
     "output_type": "display_data"
    }
   ],
   "source": [
    "ChooseSecurityPolitics = widgets.Dropdown(\n",
    "    options=os.listdir('standardLibrary'),\n",
    "    \n",
    "    description='Security Politics:',\n",
    "    disabled=False,\n",
    ")\n",
    "display(ChooseSecurityPolitics)"
   ]
  },
  {
   "cell_type": "code",
   "execution_count": 6,
   "id": "3c6d4422-d62b-4363-9cbe-fe611da0757c",
   "metadata": {},
   "outputs": [],
   "source": [
    "output = widgets.Output()\n",
    "#display(output)"
   ]
  },
  {
   "cell_type": "code",
   "execution_count": 7,
   "id": "e279b46a-a4a9-4152-9f6e-ce1141c562a8",
   "metadata": {},
   "outputs": [],
   "source": [
    "def ChooseSecurityPoliticsObserve(change):\n",
    "    if change['type'] == 'change' and change['name'] == 'value':\n",
    "        with output:\n",
    "            print(change['new'])\n",
    "    \n",
    "\n",
    "ChooseSecurityPolitics.observe(ChooseSecurityPoliticsObserve)"
   ]
  },
  {
   "cell_type": "markdown",
   "id": "dd9d4648-86f0-4854-bd50-65f31dfe6f44",
   "metadata": {},
   "source": [
    "## Choose Model"
   ]
  },
  {
   "cell_type": "code",
   "execution_count": 8,
   "id": "acc7d861-48e2-4a91-905b-e86ad6d65121",
   "metadata": {},
   "outputs": [
    {
     "data": {
      "application/vnd.jupyter.widget-view+json": {
       "model_id": "77788954192f4a289815422e0dc7c372",
       "version_major": 2,
       "version_minor": 0
      },
      "text/plain": [
       "Dropdown(description='AA_Models:', options=('SolutionB.py', 'OrangeStandard.py', 'IAlerting_robotSuspected.py'…"
      ]
     },
     "metadata": {},
     "output_type": "display_data"
    }
   ],
   "source": [
    "ChooseAAModel = widgets.Dropdown(\n",
    "    options=os.listdir('models/implementations'),\n",
    "    \n",
    "    description='AA_Models:',\n",
    "    disabled=False,\n",
    ")\n",
    "display(ChooseAAModel)"
   ]
  },
  {
   "cell_type": "code",
   "execution_count": 9,
   "id": "1963742c-6c80-4d63-9d07-4915420802a5",
   "metadata": {},
   "outputs": [],
   "source": [
    "output = widgets.Output()\n",
    "#display(output)"
   ]
  },
  {
   "cell_type": "code",
   "execution_count": 10,
   "id": "e6d31756-3156-4093-b0e8-63d1df775921",
   "metadata": {},
   "outputs": [],
   "source": [
    "#def ChooseAAModelObserve(change):\n",
    "    #if change['type'] == 'change' and change['name'] == 'value':\n",
    "        #with output:\n",
    "            #print(change['new'])\n",
    "    \n",
    "\n",
    "#ChooseAAModel.observe(ChooseAAModelObserve)"
   ]
  },
  {
   "cell_type": "code",
   "execution_count": 11,
   "id": "46227ca7-bf2b-4435-b2f9-a06b70351833",
   "metadata": {},
   "outputs": [],
   "source": [
    "model = ChooseAAModel.value\n",
    "model = model.strip('\"\\'')[:-3]\n",
    "\n",
    "module = importlib.import_module(f\"models.implementations.{model}\")\n",
    "method = getattr(module, model)\n"
   ]
  },
  {
   "cell_type": "code",
   "execution_count": 12,
   "id": "c1529781-668b-4119-93a1-35d1f1a44693",
   "metadata": {},
   "outputs": [],
   "source": [
    "from evaluation.main_evaluation import Evaluation"
   ]
  },
  {
   "cell_type": "code",
   "execution_count": 13,
   "id": "40461e40-21da-4289-94e7-053a304433f4",
   "metadata": {},
   "outputs": [],
   "source": [
    "from evaluation.criteria import Deployability\n",
    "from evaluation.criteria import Usability\n",
    "from evaluation.criteria import Privacy\n",
    "from evaluation.criteria import Security"
   ]
  },
  {
   "cell_type": "code",
   "execution_count": 26,
   "id": "f26f4b02-6045-4181-b4b2-9a7d786953a6",
   "metadata": {},
   "outputs": [
    {
     "data": {
      "text/plain": [
       "'SolutionB.py'"
      ]
     },
     "execution_count": 26,
     "metadata": {},
     "output_type": "execute_result"
    }
   ],
   "source": []
  },
  {
   "cell_type": "markdown",
   "id": "6a42c9a6-46ea-47d3-817c-e78e1dc1e517",
   "metadata": {},
   "source": [
    "# EVALUATION"
   ]
  },
  {
   "cell_type": "code",
   "execution_count": 25,
   "id": "6ee6fb7b-82e9-4e34-9ed8-3de77c424fbf",
   "metadata": {},
   "outputs": [
    {
     "data": {
      "application/vnd.jupyter.widget-view+json": {
       "model_id": "bc7d57dbdc3e4449bab0ff3b93cb483c",
       "version_major": 2,
       "version_minor": 0
      },
      "text/plain": [
       "Button(description='General Evaluation', style=ButtonStyle())"
      ]
     },
     "metadata": {},
     "output_type": "display_data"
    }
   ],
   "source": [
    "def button_click(b):\n",
    "    user= ChooseUser.value\n",
    "    user = user.strip('\"\\'')\n",
    "    secpolitics = ChooseSecurityPolitics.value.strip('\"\\'')\n",
    "    mod = ChooseAAModel.value.strip('\"\\'')\n",
    "    UserPath = pd.read_csv('context_sequences/onlineServiceNorway_paths/'+ str(user))\n",
    "    UserPath[\"Login Timestamp\"]= pd.to_datetime(UserPath[\"Login Timestamp\"])\n",
    "    \n",
    "    model = ChooseAAModel.value\n",
    "    model = model.strip('\"\\'')[:-3]\n",
    "    module = importlib.import_module(f\"models.implementations.{model}\")\n",
    "    method = getattr(module, model)\n",
    "    \n",
    "    \n",
    "    politics = ChooseSecurityPolitics.value\n",
    "    politics = politics.strip('\"\\'')\n",
    "    security_politics=open(f\"standardLibrary/{politics}\")\n",
    "    \n",
    "    \n",
    "    \n",
    "# -------------------------------------------------------\n",
    "    evaluation_ = Evaluation(model=method, security_politics=security_politics, sequence=UserPath)\n",
    "# -------------------------------------------------------\n",
    "\n",
    "    with output:\n",
    "        clear_output()\n",
    "        #display(UserPath)\n",
    "        #print(\"Number Of Authentications:\", evaluation_.nb_authentications(model=method, sequence=UserPath))\n",
    "        #print(\"Length Path:\", evaluation_.length_path(model=method, sequence=UserPath))\n",
    "        #length = evaluation_.length_path(model=method, sequence=UserPath)\n",
    "        nb_authentications= evaluation_.nb_authentications(model=method, sequence=UserPath)\n",
    "        \n",
    "        with open(f\"{method}.csv\", \"w\", newline=\"\") as file:\n",
    "            writer = csv.writer(file)\n",
    "            writer.writerow([\"AA_Model\", \"security_politics\", \"user_path\", \"metric\", \"value\"])\n",
    "            writer.writerow([mod, secpolitics, user, \"nb_authentications\", nb_authentications])\n",
    "            \n",
    "        \n",
    "\n",
    "\n",
    "button = widgets.Button(\n",
    "    description = \"General Evaluation\", \n",
    ")\n",
    "\n",
    "button.on_click(button_click)\n",
    "display(button)\n",
    "\n",
    "\n"
   ]
  },
  {
   "cell_type": "code",
   "execution_count": null,
   "id": "a42e1bce-592b-4dbe-ad4d-5b01ff4e4753",
   "metadata": {},
   "outputs": [],
   "source": []
  },
  {
   "cell_type": "code",
   "execution_count": 15,
   "id": "97a4fb88-5a30-406c-8520-69592ae1c9f4",
   "metadata": {},
   "outputs": [
    {
     "data": {
      "application/vnd.jupyter.widget-view+json": {
       "model_id": "87284cc849e34171b8650de15aab0534",
       "version_major": 2,
       "version_minor": 0
      },
      "text/plain": [
       "Button(description='Evaluate Deployability', style=ButtonStyle())"
      ]
     },
     "metadata": {},
     "output_type": "display_data"
    }
   ],
   "source": [
    "import csv\n",
    "def button_click(b):\n",
    "    user= ChooseUser.value\n",
    "    user = user.strip('\"\\'')\n",
    "    mod = ChooseAAModel.value.strip('\"\\'')\n",
    "    secpolitics = ChooseSecurityPolitics.value.strip('\"\\'')\n",
    "    UserPath = pd.read_csv('context_sequences/onlineServiceNorway_paths/'+ str(user))\n",
    "    UserPath[\"Login Timestamp\"]= pd.to_datetime(UserPath[\"Login Timestamp\"])\n",
    "    \n",
    "    model = ChooseAAModel.value\n",
    "    model = model.strip('\"\\'')[:-3]\n",
    "    module = importlib.import_module(f\"models.implementations.{model}\")\n",
    "    method = getattr(module, model)\n",
    "    \n",
    "    \n",
    "    politics = ChooseSecurityPolitics.value\n",
    "    politics = politics.strip('\"\\'')\n",
    "    security_politics=open(f\"standardLibrary/{politics}\")\n",
    "    \n",
    "    \n",
    "    \n",
    "# -------------------------------------------------------\n",
    "    deployability_ = Deployability(model=method, secpolitics=security_politics, sequence=UserPath)\n",
    "# -------------------------------------------------------\n",
    "\n",
    "    with output:\n",
    "        clear_output()\n",
    "        #display(UserPath)\n",
    "        \n",
    "        \n",
    "        #print(\"mean_sequence_deployability:\", deployability_.mean_sequence_deployability(model=method, security_politics=security_politics, sequence=UserPath)) \n",
    "        mean_deployability = deployability_.mean_sequence_deployability(model=method, security_politics=security_politics, sequence=UserPath)\n",
    "\n",
    "    \n",
    "        with open(f\"{method}.csv\", \"a\", newline=\"\") as f_object:\n",
    " \n",
    "    # Pass this file object to csv.writer()\n",
    "    # and get a writer object\n",
    "            writer_object = writer(f_object)\n",
    " \n",
    "    # Pass the list as an argument into\n",
    "    # the writerow()\n",
    "            writer_object.writerow([mod, secpolitics, user, \"mean_sequence_deployability\", mean_deployability])\n",
    " \n",
    "    # Close the file object\n",
    "            f_object.close()\n",
    "\n",
    "\n",
    "button = widgets.Button(\n",
    "    description = \"Evaluate Deployability\", \n",
    ")\n",
    "\n",
    "button.on_click(button_click)\n",
    "display(button)\n",
    "\n",
    "\n",
    "\n"
   ]
  },
  {
   "cell_type": "code",
   "execution_count": 16,
   "id": "41451a4b-dd92-40a1-a204-a423eda2b96d",
   "metadata": {},
   "outputs": [
    {
     "data": {
      "application/vnd.jupyter.widget-view+json": {
       "model_id": "e1d8cae5941a4b4a9b0aa7fac7a55504",
       "version_major": 2,
       "version_minor": 0
      },
      "text/plain": [
       "Button(description='Evaluate Usability', style=ButtonStyle())"
      ]
     },
     "metadata": {},
     "output_type": "display_data"
    }
   ],
   "source": [
    "from csv import writer\n",
    "def button_click(b):\n",
    "    user= ChooseUser.value\n",
    "    user = user.strip('\"\\'')\n",
    "    mod = ChooseAAModel.value.strip('\"\\'')\n",
    "    secpolitics = ChooseSecurityPolitics.value.strip('\"\\'')\n",
    "    UserPath = pd.read_csv('context_sequences/onlineServiceNorway_paths/'+ str(user))\n",
    "    UserPath[\"Login Timestamp\"]= pd.to_datetime(UserPath[\"Login Timestamp\"])\n",
    "    \n",
    "    model = ChooseAAModel.value\n",
    "    model = model.strip('\"\\'')[:-3]\n",
    "    module = importlib.import_module(f\"models.implementations.{model}\")\n",
    "    method = getattr(module, model)\n",
    "    \n",
    "    \n",
    "    politics = ChooseSecurityPolitics.value\n",
    "    politics = politics.strip('\"\\'')\n",
    "    security_politics=open(f\"standardLibrary/{politics}\")\n",
    "    \n",
    "    \n",
    "    \n",
    "# -------------------------------------------------------\n",
    "    usability_ = Usability(model=method, security_politics=security_politics, sequence=UserPath)\n",
    "# -------------------------------------------------------\n",
    "\n",
    "    with output:\n",
    "        clear_output()\n",
    "        #display(UserPath)\n",
    "        \n",
    "        \n",
    "        #print(\"mean_sequence_usability:\", usability_.mean_sequence_usability(model=method, security_politics=security_politics, sequence=UserPath))       \n",
    "        mean_usability = usability_.mean_sequence_usability(model=method, security_politics=security_politics, sequence=UserPath)\n",
    "        with open(f\"{method}.csv\", \"a\", newline=\"\") as f_object:\n",
    " \n",
    "    # Pass this file object to csv.writer()\n",
    "    # and get a writer object\n",
    "            writer_object = writer(f_object)\n",
    " \n",
    "    # Pass the list as an argument into\n",
    "    # the writerow()\n",
    "            writer_object.writerow([mod, secpolitics, user, \"mean_sequence_usability\", mean_usability])\n",
    " \n",
    "    # Close the file object\n",
    "            f_object.close()\n",
    "\n",
    "\n",
    "button = widgets.Button(\n",
    "    description = \"Evaluate Usability\", \n",
    ")\n",
    "\n",
    "button.on_click(button_click)\n",
    "display(button)\n",
    "\n"
   ]
  },
  {
   "cell_type": "code",
   "execution_count": 17,
   "id": "d0e8996a-9ae8-47e5-b0ee-fc8c5359ee8d",
   "metadata": {},
   "outputs": [
    {
     "data": {
      "application/vnd.jupyter.widget-view+json": {
       "model_id": "b32546b2d8cf453baeb581bf42fc64dc",
       "version_major": 2,
       "version_minor": 0
      },
      "text/plain": [
       "Button(description='Evaluate Privacy', style=ButtonStyle())"
      ]
     },
     "metadata": {},
     "output_type": "display_data"
    }
   ],
   "source": [
    "def button_click(b):\n",
    "    user= ChooseUser.value\n",
    "    user = user.strip('\"\\'')\n",
    "    mod = ChooseAAModel.value.strip('\"\\'')\n",
    "    secpolitics = ChooseSecurityPolitics.value.strip('\"\\'')\n",
    "    UserPath = pd.read_csv('context_sequences/onlineServiceNorway_paths/'+ str(user))\n",
    "    UserPath[\"Login Timestamp\"]= pd.to_datetime(UserPath[\"Login Timestamp\"])\n",
    "    \n",
    "    model = ChooseAAModel.value\n",
    "    model = model.strip('\"\\'')[:-3]\n",
    "    module = importlib.import_module(f\"models.implementations.{model}\")\n",
    "    method = getattr(module, model)\n",
    "    \n",
    "    \n",
    "    politics = ChooseSecurityPolitics.value\n",
    "    politics = politics.strip('\"\\'')\n",
    "    security_politics=open(f\"standardLibrary/{politics}\")\n",
    "    \n",
    "    \n",
    "    \n",
    "# -------------------------------------------------------\n",
    "    privacy_ = Privacy(model=method, security_politics=security_politics, sequence=UserPath)\n",
    "# -------------------------------------------------------\n",
    "\n",
    "    with output:\n",
    "        clear_output()\n",
    "        #display(UserPath)\n",
    "        \n",
    "        \n",
    "        \n",
    "        #print(\"mean_sequence_privacy:\", privacy_.mean_sequence_usability(model=method, security_politics=security_politics, sequence=UserPath))       \n",
    "        mean_privacy = privacy_.mean_sequence_privacy(model=method, security_politics=security_politics, sequence=UserPath)\n",
    "        with open(f\"{method}.csv\", \"a\", newline=\"\") as f_object:\n",
    " \n",
    "    # Pass this file object to csv.writer()\n",
    "    # and get a writer object\n",
    "            writer_object = writer(f_object)\n",
    " \n",
    "    # Pass the list as an argument into\n",
    "    # the writerow()\n",
    "            writer_object.writerow([mod, secpolitics, user, \"mean_sequence_privacy\", mean_privacy])\n",
    " \n",
    "    # Close the file object\n",
    "            f_object.close()\n",
    "\n",
    "\n",
    "button = widgets.Button(\n",
    "    description = \"Evaluate Privacy\", \n",
    ")\n",
    "\n",
    "button.on_click(button_click)\n",
    "display(button)"
   ]
  },
  {
   "cell_type": "code",
   "execution_count": 18,
   "id": "809997ef-ffa9-4dfd-b22f-50a65c25f2d3",
   "metadata": {},
   "outputs": [
    {
     "data": {
      "application/vnd.jupyter.widget-view+json": {
       "model_id": "c5db996bb5b1437f88377a686a88ee4d",
       "version_major": 2,
       "version_minor": 0
      },
      "text/plain": [
       "Button(description='Evaluate Security', style=ButtonStyle())"
      ]
     },
     "metadata": {},
     "output_type": "display_data"
    },
    {
     "data": {
      "application/vnd.jupyter.widget-view+json": {
       "model_id": "8e2fccc36bd041258d2661038ff5c37e",
       "version_major": 2,
       "version_minor": 0
      },
      "text/plain": [
       "Output()"
      ]
     },
     "metadata": {},
     "output_type": "display_data"
    }
   ],
   "source": [
    "def button_click(b):\n",
    "    user= ChooseUser.value\n",
    "    user = user.strip('\"\\'')\n",
    "    secpolitics = ChooseSecurityPolitics.value.strip('\"\\'')\n",
    "    mod = ChooseAAModel.value.strip('\"\\'')\n",
    "    UserPath = pd.read_csv('context_sequences/onlineServiceNorway_paths/'+ str(user))\n",
    "    UserPath[\"Login Timestamp\"]= pd.to_datetime(UserPath[\"Login Timestamp\"])\n",
    "    \n",
    "    model = ChooseAAModel.value\n",
    "    model = model.strip('\"\\'')[:-3]\n",
    "    module = importlib.import_module(f\"models.implementations.{model}\")\n",
    "    method = getattr(module, model)\n",
    "    \n",
    "    \n",
    "    politics = ChooseSecurityPolitics.value\n",
    "    politics = politics.strip('\"\\'')\n",
    "    security_politics=open(f\"standardLibrary/{politics}\")\n",
    "    \n",
    "    \n",
    "    \n",
    "# -------------------------------------------------------\n",
    "    security_ = Security(model=method, security_politics=security_politics, sequence=UserPath)\n",
    "# -------------------------------------------------------\n",
    "\n",
    "    with output:\n",
    "        clear_output()\n",
    "        #display(UserPath)\n",
    "        \n",
    "        \n",
    "        #print(\"mean_sequence_security:\", security_.mean_sequence_usability(model=method, security_politics=security_politics, sequence=UserPath))       \n",
    "        mean_security = security_.mean_sequence_security(model=method, security_politics=security_politics, sequence=UserPath)\n",
    "        with open(f\"{method}.csv\", \"a\", newline=\"\") as f_object:\n",
    " \n",
    "    # Pass this file object to csv.writer()\n",
    "    # and get a writer object\n",
    "            writer_object = writer(f_object)\n",
    " \n",
    "    # Pass the list as an argument into\n",
    "    # the writerow()\n",
    "            writer_object.writerow([mod, secpolitics, user, \"mean_sequence_security\", mean_security])\n",
    " \n",
    "    # Close the file object\n",
    "            f_object.close()\n",
    "\n",
    "button = widgets.Button(\n",
    "    description = \"Evaluate Security\", \n",
    ")\n",
    "\n",
    "button.on_click(button_click)\n",
    "display(button)\n",
    "display(output)\n"
   ]
  },
  {
   "cell_type": "code",
   "execution_count": 19,
   "id": "e3d9630b-f804-4aff-9731-33b06cc19a48",
   "metadata": {},
   "outputs": [],
   "source": [
    "#sec= str(output).split(\"=(\")[1].split(\",)\")[0]\n",
    "\n",
    "\n",
    "#res = eval(sec)\n",
    "\n",
    "\n",
    "#import scv\n",
    "#w = csv.writer(open(\"output.csv\", \"w\"))\n",
    "#for key, val in res.items():\n",
    "\n",
    "    # write every key and value to file\n",
    "    #w.writerow([key, val])"
   ]
  },
  {
   "cell_type": "code",
   "execution_count": null,
   "id": "4440cb02-3ac5-416d-9208-71bed9d26d74",
   "metadata": {},
   "outputs": [],
   "source": []
  },
  {
   "cell_type": "code",
   "execution_count": null,
   "id": "274dc8e0-8fff-40dc-a248-f60401f28532",
   "metadata": {},
   "outputs": [],
   "source": []
  }
 ],
 "metadata": {
  "kernelspec": {
   "display_name": "Python 3 (ipykernel)",
   "language": "python",
   "name": "python3"
  },
  "language_info": {
   "codemirror_mode": {
    "name": "ipython",
    "version": 3
   },
   "file_extension": ".py",
   "mimetype": "text/x-python",
   "name": "python",
   "nbconvert_exporter": "python",
   "pygments_lexer": "ipython3",
   "version": "3.10.4"
  }
 },
 "nbformat": 4,
 "nbformat_minor": 5
}
